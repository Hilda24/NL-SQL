{
 "cells": [
  {
   "cell_type": "code",
   "execution_count": 1,
   "id": "60aa46f4",
   "metadata": {},
   "outputs": [],
   "source": [
    "import pandas as pd\n",
    "from numpy import asarray\n",
    "from sklearn.model_selection import train_test_split\n",
    "from tensorflow.keras.models import Sequential\n",
    "from tensorflow.keras.layers import Dense, Dropout\n",
    "import tensorflow as tf"
   ]
  },
  {
   "cell_type": "code",
   "execution_count": 2,
   "id": "8dbac2c5",
   "metadata": {},
   "outputs": [],
   "source": [
    "def get_keras_model():\n",
    "    \"\"\"Define the model.\"\"\"\n",
    "    model = Sequential()\n",
    "    model.add(Dense(128, input_shape=[512 ,], activation='relu'))\n",
    "    model.add(Dropout(0.1))\n",
    "    model.add(Dense(64 ,activation='relu' ,kernel_regularizer=tf.keras.regularizers.L1(0.01),\n",
    "                    activity_regularizer=tf.keras.regularizers.L2(0.01)))\n",
    "    model.add(Dense(6, activation='softmax'))\n",
    "\n",
    "    model.compile(loss = 'sparse_categorical_crossentropy', optimizer = 'adam', metrics = ['accuracy'])\n",
    "    model.summary()\n",
    "    return model"
   ]
  },
  {
   "cell_type": "code",
   "execution_count": 3,
   "id": "ebaec0ac",
   "metadata": {},
   "outputs": [
    {
     "name": "stdout",
     "output_type": "stream",
     "text": [
      "                                           questions  types\n",
      "0  what is the maximum age of stomach cancer pati...      1\n",
      "1  get me the average number of stomach cancer de...      5\n",
      "2      how many times is the fuel propulsion is cng?      3\n",
      "3               how many times is the model ge40lfr?      3\n",
      "4  how many times is the fleet series (quantity) ...      3\n"
     ]
    }
   ],
   "source": [
    "data =pd.read_csv(\"wikidata.csv\" ,usecols=[\"questions\" ,\"types\"])\n",
    "categories =data[\"types\"]\n",
    "print(data.head())"
   ]
  },
  {
   "cell_type": "code",
   "execution_count": 4,
   "id": "51cd5760",
   "metadata": {},
   "outputs": [],
   "source": [
    "x_train, x_test, y_train ,y_test =train_test_split(data[\"questions\"], categories, shuffle=True)"
   ]
  },
  {
   "cell_type": "code",
   "execution_count": 5,
   "id": "de21a7dd",
   "metadata": {},
   "outputs": [],
   "source": [
    "import tensorflow_hub as hub"
   ]
  },
  {
   "cell_type": "code",
   "execution_count": 7,
   "id": "27aebf2d",
   "metadata": {},
   "outputs": [],
   "source": [
    "embed = hub.load('https://tfhub.dev/google/universal-sentence-encoder/4')"
   ]
  },
  {
   "cell_type": "code",
   "execution_count": 8,
   "id": "257a6d44",
   "metadata": {},
   "outputs": [],
   "source": [
    "def get_embeddings(x):\n",
    "    embeddings = embed(x)\n",
    "    return asarray(embeddings)\n"
   ]
  },
  {
   "cell_type": "code",
   "execution_count": 9,
   "id": "ea31bfbb",
   "metadata": {},
   "outputs": [],
   "source": [
    "train_encodings = get_embeddings(x_train.to_list())\n",
    "test_encodings = get_embeddings(x_test.tolist())"
   ]
  },
  {
   "cell_type": "code",
   "execution_count": 10,
   "id": "463d3eff",
   "metadata": {},
   "outputs": [],
   "source": [
    "y_train = asarray(y_train, dtype=\"float32\")\n",
    "y_test = asarray(y_test, dtype=\"float32\")\n"
   ]
  },
  {
   "cell_type": "code",
   "execution_count": 11,
   "id": "63416ebd",
   "metadata": {},
   "outputs": [
    {
     "name": "stdout",
     "output_type": "stream",
     "text": [
      "Model: \"sequential\"\n",
      "_________________________________________________________________\n",
      " Layer (type)                Output Shape              Param #   \n",
      "=================================================================\n",
      " dense (Dense)               (None, 128)               65664     \n",
      "                                                                 \n",
      " dropout (Dropout)           (None, 128)               0         \n",
      "                                                                 \n",
      " dense_1 (Dense)             (None, 64)                8256      \n",
      "                                                                 \n",
      " dense_2 (Dense)             (None, 6)                 390       \n",
      "                                                                 \n",
      "=================================================================\n",
      "Total params: 74,310\n",
      "Trainable params: 74,310\n",
      "Non-trainable params: 0\n",
      "_________________________________________________________________\n",
      "(16243, 512)\n",
      "Epoch 1/50\n",
      "407/407 [==============================] - 4s 7ms/step - loss: 2.4551 - accuracy: 0.5873 - val_loss: 1.1751 - val_accuracy: 0.6679\n",
      "Epoch 2/50\n",
      "407/407 [==============================] - 2s 6ms/step - loss: 1.0856 - accuracy: 0.7056 - val_loss: 0.9877 - val_accuracy: 0.7565\n",
      "Epoch 3/50\n",
      "407/407 [==============================] - 2s 6ms/step - loss: 0.9514 - accuracy: 0.7679 - val_loss: 0.8893 - val_accuracy: 0.7959\n",
      "Epoch 4/50\n",
      "407/407 [==============================] - 2s 6ms/step - loss: 0.8698 - accuracy: 0.7891 - val_loss: 0.8267 - val_accuracy: 0.8030\n",
      "Epoch 5/50\n",
      "407/407 [==============================] - 2s 6ms/step - loss: 0.8226 - accuracy: 0.8048 - val_loss: 0.7942 - val_accuracy: 0.8156\n",
      "Epoch 6/50\n",
      "407/407 [==============================] - 2s 6ms/step - loss: 0.7892 - accuracy: 0.8127 - val_loss: 0.7741 - val_accuracy: 0.8209\n",
      "Epoch 7/50\n",
      "407/407 [==============================] - 2s 6ms/step - loss: 0.7635 - accuracy: 0.8208 - val_loss: 0.7421 - val_accuracy: 0.8264\n",
      "Epoch 8/50\n",
      "407/407 [==============================] - 3s 6ms/step - loss: 0.7423 - accuracy: 0.8263 - val_loss: 0.7276 - val_accuracy: 0.8289\n",
      "Epoch 9/50\n",
      "407/407 [==============================] - 2s 6ms/step - loss: 0.7220 - accuracy: 0.8295 - val_loss: 0.7136 - val_accuracy: 0.8286\n",
      "Epoch 10/50\n",
      "407/407 [==============================] - 2s 6ms/step - loss: 0.7076 - accuracy: 0.8308 - val_loss: 0.7236 - val_accuracy: 0.8286\n",
      "Epoch 11/50\n",
      "407/407 [==============================] - 2s 5ms/step - loss: 0.6998 - accuracy: 0.8303 - val_loss: 0.6939 - val_accuracy: 0.8347\n",
      "Epoch 12/50\n",
      "407/407 [==============================] - 2s 5ms/step - loss: 0.6837 - accuracy: 0.8344 - val_loss: 0.6756 - val_accuracy: 0.8393\n",
      "Epoch 13/50\n",
      "407/407 [==============================] - 2s 6ms/step - loss: 0.6737 - accuracy: 0.8368 - val_loss: 0.6703 - val_accuracy: 0.8378\n",
      "Epoch 14/50\n",
      "407/407 [==============================] - 2s 4ms/step - loss: 0.6677 - accuracy: 0.8388 - val_loss: 0.6747 - val_accuracy: 0.8384\n",
      "Epoch 15/50\n",
      "407/407 [==============================] - 2s 6ms/step - loss: 0.6595 - accuracy: 0.8400 - val_loss: 0.6577 - val_accuracy: 0.8430\n",
      "Epoch 16/50\n",
      "407/407 [==============================] - 2s 6ms/step - loss: 0.6496 - accuracy: 0.8421 - val_loss: 0.6699 - val_accuracy: 0.8366\n",
      "Epoch 17/50\n",
      "407/407 [==============================] - 3s 6ms/step - loss: 0.6391 - accuracy: 0.8405 - val_loss: 0.6574 - val_accuracy: 0.8427\n",
      "Epoch 18/50\n",
      "407/407 [==============================] - 3s 6ms/step - loss: 0.6369 - accuracy: 0.8445 - val_loss: 0.6459 - val_accuracy: 0.8455\n",
      "Epoch 19/50\n",
      "407/407 [==============================] - 2s 6ms/step - loss: 0.6293 - accuracy: 0.8456 - val_loss: 0.6541 - val_accuracy: 0.8436\n",
      "Epoch 20/50\n",
      "407/407 [==============================] - 2s 5ms/step - loss: 0.6217 - accuracy: 0.8475 - val_loss: 0.6464 - val_accuracy: 0.8433\n",
      "Epoch 21/50\n",
      "407/407 [==============================] - 2s 6ms/step - loss: 0.6258 - accuracy: 0.8479 - val_loss: 0.6410 - val_accuracy: 0.8452\n",
      "Epoch 22/50\n",
      "407/407 [==============================] - 2s 6ms/step - loss: 0.6168 - accuracy: 0.8479 - val_loss: 0.6378 - val_accuracy: 0.8440\n",
      "Epoch 23/50\n",
      "407/407 [==============================] - 2s 5ms/step - loss: 0.6106 - accuracy: 0.8502 - val_loss: 0.6515 - val_accuracy: 0.8384\n",
      "Epoch 24/50\n",
      "407/407 [==============================] - 2s 5ms/step - loss: 0.6035 - accuracy: 0.8482 - val_loss: 0.6423 - val_accuracy: 0.8443\n",
      "Epoch 25/50\n",
      "407/407 [==============================] - 2s 6ms/step - loss: 0.6008 - accuracy: 0.8510 - val_loss: 0.6341 - val_accuracy: 0.8458\n",
      "Epoch 26/50\n",
      "407/407 [==============================] - 2s 6ms/step - loss: 0.5905 - accuracy: 0.8535 - val_loss: 0.6290 - val_accuracy: 0.8446\n",
      "Epoch 27/50\n",
      "407/407 [==============================] - 2s 6ms/step - loss: 0.5903 - accuracy: 0.8541 - val_loss: 0.6262 - val_accuracy: 0.8443\n",
      "Epoch 28/50\n",
      "407/407 [==============================] - 2s 6ms/step - loss: 0.5903 - accuracy: 0.8525 - val_loss: 0.6266 - val_accuracy: 0.8430\n",
      "Epoch 29/50\n",
      "407/407 [==============================] - 2s 6ms/step - loss: 0.5851 - accuracy: 0.8559 - val_loss: 0.6232 - val_accuracy: 0.8446\n",
      "Epoch 30/50\n",
      "407/407 [==============================] - 2s 6ms/step - loss: 0.5825 - accuracy: 0.8558 - val_loss: 0.6224 - val_accuracy: 0.8446\n",
      "Epoch 31/50\n",
      "407/407 [==============================] - 2s 6ms/step - loss: 0.5779 - accuracy: 0.8582 - val_loss: 0.6273 - val_accuracy: 0.8455\n",
      "Epoch 32/50\n",
      "407/407 [==============================] - 2s 6ms/step - loss: 0.5739 - accuracy: 0.8559 - val_loss: 0.6232 - val_accuracy: 0.8443\n",
      "Epoch 33/50\n",
      "407/407 [==============================] - 2s 6ms/step - loss: 0.5698 - accuracy: 0.8592 - val_loss: 0.6338 - val_accuracy: 0.8393\n",
      "Epoch 34/50\n",
      "407/407 [==============================] - 2s 5ms/step - loss: 0.5688 - accuracy: 0.8589 - val_loss: 0.6263 - val_accuracy: 0.8440\n",
      "Epoch 35/50\n",
      "407/407 [==============================] - 2s 6ms/step - loss: 0.5640 - accuracy: 0.8599 - val_loss: 0.6244 - val_accuracy: 0.8436\n",
      "Epoch 36/50\n",
      "407/407 [==============================] - 2s 5ms/step - loss: 0.5632 - accuracy: 0.8599 - val_loss: 0.6111 - val_accuracy: 0.8470\n",
      "Epoch 37/50\n",
      "407/407 [==============================] - 2s 5ms/step - loss: 0.5586 - accuracy: 0.8627 - val_loss: 0.6310 - val_accuracy: 0.8390\n",
      "Epoch 38/50\n",
      "407/407 [==============================] - 2s 6ms/step - loss: 0.5564 - accuracy: 0.8616 - val_loss: 0.6163 - val_accuracy: 0.8458\n",
      "Epoch 39/50\n",
      "407/407 [==============================] - 2s 6ms/step - loss: 0.5505 - accuracy: 0.8622 - val_loss: 0.6233 - val_accuracy: 0.8520\n",
      "Epoch 40/50\n",
      "407/407 [==============================] - 2s 6ms/step - loss: 0.5467 - accuracy: 0.8644 - val_loss: 0.6129 - val_accuracy: 0.8458\n",
      "Epoch 41/50\n",
      "407/407 [==============================] - 2s 5ms/step - loss: 0.5428 - accuracy: 0.8653 - val_loss: 0.6157 - val_accuracy: 0.8458\n",
      "Epoch 42/50\n",
      "407/407 [==============================] - 2s 5ms/step - loss: 0.5398 - accuracy: 0.8658 - val_loss: 0.6213 - val_accuracy: 0.8443\n",
      "Epoch 43/50\n",
      "407/407 [==============================] - 2s 5ms/step - loss: 0.5378 - accuracy: 0.8689 - val_loss: 0.6136 - val_accuracy: 0.8489\n",
      "Epoch 44/50\n",
      "407/407 [==============================] - 2s 6ms/step - loss: 0.5356 - accuracy: 0.8697 - val_loss: 0.6215 - val_accuracy: 0.8455\n",
      "Epoch 45/50\n",
      "407/407 [==============================] - 2s 6ms/step - loss: 0.5334 - accuracy: 0.8677 - val_loss: 0.6131 - val_accuracy: 0.8467\n",
      "Epoch 46/50\n",
      "407/407 [==============================] - 2s 6ms/step - loss: 0.5283 - accuracy: 0.8711 - val_loss: 0.6101 - val_accuracy: 0.8470\n",
      "Epoch 47/50\n",
      "407/407 [==============================] - 2s 6ms/step - loss: 0.5213 - accuracy: 0.8733 - val_loss: 0.6121 - val_accuracy: 0.8452\n",
      "Epoch 48/50\n",
      "407/407 [==============================] - 2s 6ms/step - loss: 0.5241 - accuracy: 0.8713 - val_loss: 0.6187 - val_accuracy: 0.8483\n",
      "Epoch 49/50\n",
      "407/407 [==============================] - 3s 6ms/step - loss: 0.5202 - accuracy: 0.8725 - val_loss: 0.6203 - val_accuracy: 0.8470\n",
      "Epoch 50/50\n",
      "407/407 [==============================] - 2s 5ms/step - loss: 0.5164 - accuracy: 0.8730 - val_loss: 0.6206 - val_accuracy: 0.8446\n"
     ]
    },
    {
     "data": {
      "text/plain": [
       "<keras.callbacks.History at 0x281aae6bcd0>"
      ]
     },
     "execution_count": 11,
     "metadata": {},
     "output_type": "execute_result"
    }
   ],
   "source": [
    "model = get_keras_model()\n",
    "print(train_encodings.shape)\n",
    "model.fit(train_encodings, y_train, epochs=50, validation_split=0.2)"
   ]
  },
  {
   "cell_type": "code",
   "execution_count": 12,
   "id": "ad38e45f",
   "metadata": {},
   "outputs": [
    {
     "name": "stdout",
     "output_type": "stream",
     "text": [
      "170/170 [==============================] - 1s 4ms/step - loss: 0.6421 - accuracy: 0.8388\n"
     ]
    }
   ],
   "source": [
    "model.save(\"Question_Classifier.h5\")\n",
    "score, acc = model.evaluate(test_encodings, y_test)"
   ]
  },
  {
   "cell_type": "code",
   "execution_count": null,
   "id": "f0406cc7",
   "metadata": {},
   "outputs": [],
   "source": []
  }
 ],
 "metadata": {
  "kernelspec": {
   "display_name": "Python 3 (ipykernel)",
   "language": "python",
   "name": "python3"
  },
  "language_info": {
   "codemirror_mode": {
    "name": "ipython",
    "version": 3
   },
   "file_extension": ".py",
   "mimetype": "text/x-python",
   "name": "python",
   "nbconvert_exporter": "python",
   "pygments_lexer": "ipython3",
   "version": "3.9.4"
  }
 },
 "nbformat": 4,
 "nbformat_minor": 5
}
